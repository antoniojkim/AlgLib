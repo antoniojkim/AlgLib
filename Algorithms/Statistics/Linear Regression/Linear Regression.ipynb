{
 "cells": [
  {
   "cell_type": "code",
   "execution_count": 1,
   "metadata": {},
   "outputs": [],
   "source": [
    "import numpy as np"
   ]
  },
  {
   "cell_type": "markdown",
   "metadata": {},
   "source": [
    "# Linear Regression"
   ]
  },
  {
   "cell_type": "code",
   "execution_count": 2,
   "metadata": {},
   "outputs": [],
   "source": [
    "x = np.random.random(size=(5, 5))\n",
    "y = np.random.random(size=5)"
   ]
  },
  {
   "cell_type": "markdown",
   "metadata": {},
   "source": [
    "## Least-squares method of fitting\n",
    "\n",
    "The idea is the minimize the residual sum of squares:\n",
    "\n",
    "$$\n",
    "\\text{RSS}(\\beta) = \\sum_{i=1}^{N}(y_i - x_i^T\\beta)^2\n",
    "$$\n",
    "\n",
    "We can write that in matrix form as follows:\n",
    "\n",
    "$$\n",
    "\\text{RSS}(\\beta) = (y-X\\beta)^T(y-X\\beta)\n",
    "$$\n",
    "\n",
    "where $X$ is an $N\\times p$ matrix with each row representing an input vector and $y$ is a an $N$-vector of the outputs in the training set\n",
    "\n",
    "Differentiating with respect to $\\beta$, we get\n",
    "\n",
    "$$\n",
    "\\dfrac{\\partial}{\\partial\\beta}\\text{RSS}(\\beta) = X^T(y-X\\beta) = 0\n",
    "$$\n",
    "\n",
    "If $X^TX$ is nonsingular, that is, if it has an inverse (i.e. determinant is non zero), then\n",
    "\n",
    "$$\n",
    "\\hat{\\beta} = (X^TX)^{-1}X^Ty\n",
    "$$"
   ]
  },
  {
   "cell_type": "code",
   "execution_count": 3,
   "metadata": {},
   "outputs": [],
   "source": [
    "def least_squares(X, y):\n",
    "    N = X.shape[0]\n",
    "    p = X.shape[1]\n",
    "    \n",
    "    assert(y.shape[0] == N)\n",
    "    \n",
    "    beta = np.linalg.inv(X.T.dot(X)).dot(X.T.dot(y))\n",
    "    \n",
    "    return beta"
   ]
  },
  {
   "cell_type": "code",
   "execution_count": 4,
   "metadata": {},
   "outputs": [],
   "source": [
    "assert(np.allclose(least_squares(x, y), \n",
    "                   np.linalg.lstsq(x, y, rcond=None)[0]))"
   ]
  }
 ],
 "metadata": {
  "kernelspec": {
   "display_name": "Python 3",
   "language": "python",
   "name": "python3"
  },
  "language_info": {
   "codemirror_mode": {
    "name": "ipython",
    "version": 3
   },
   "file_extension": ".py",
   "mimetype": "text/x-python",
   "name": "python",
   "nbconvert_exporter": "python",
   "pygments_lexer": "ipython3",
   "version": "3.7.1"
  }
 },
 "nbformat": 4,
 "nbformat_minor": 4
}
